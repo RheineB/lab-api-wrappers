{
 "cells": [
  {
   "cell_type": "markdown",
   "metadata": {
    "id": "kOBk3PQHeJef"
   },
   "source": [
    "# Lesson 6.5 - API Wrappers LAB"
   ]
  },
  {
   "cell_type": "markdown",
   "metadata": {
    "id": "OhLA0o_5eJep"
   },
   "source": [
    "#### Authentification"
   ]
  },
  {
   "cell_type": "code",
   "execution_count": 102,
   "metadata": {
    "id": "JuPP1QvSaGdp"
   },
   "outputs": [],
   "source": [
    "import spotipy\n",
    "from spotipy.oauth2 import SpotifyClientCredentials"
   ]
  },
  {
   "cell_type": "markdown",
   "metadata": {
    "id": "4iW0BQKonLZq"
   },
   "source": [
    "##### storing secrets"
   ]
  },
  {
   "cell_type": "code",
   "execution_count": 103,
   "metadata": {
    "id": "P6Z1QB7eeJeq"
   },
   "outputs": [],
   "source": [
    "secrets_file = open(\"secrets.txt\",\"r\")\n",
    "#r = reading"
   ]
  },
  {
   "cell_type": "code",
   "execution_count": 104,
   "metadata": {
    "id": "O_zvc84bnbh2"
   },
   "outputs": [],
   "source": [
    "string = secrets_file.read()"
   ]
  },
  {
   "cell_type": "code",
   "execution_count": 105,
   "metadata": {
    "id": "qE_-56J0ak4B"
   },
   "outputs": [
    {
     "data": {
      "text/plain": [
       "'cid: 5176c71e6a0243e6a3448aad68276887\\ncsecret: 97a7946752544eb58aed2abde702c172'"
      ]
     },
     "execution_count": 105,
     "metadata": {},
     "output_type": "execute_result"
    }
   ],
   "source": [
    "string"
   ]
  },
  {
   "cell_type": "code",
   "execution_count": 106,
   "metadata": {
    "id": "kXwHdEdLndJZ"
   },
   "outputs": [
    {
     "data": {
      "text/plain": [
       "['cid: 5176c71e6a0243e6a3448aad68276887',\n",
       " 'csecret: 97a7946752544eb58aed2abde702c172']"
      ]
     },
     "execution_count": 106,
     "metadata": {},
     "output_type": "execute_result"
    }
   ],
   "source": [
    "string.split('\\n')"
   ]
  },
  {
   "cell_type": "code",
   "execution_count": 107,
   "metadata": {
    "id": "gZmYnRSNngr7"
   },
   "outputs": [],
   "source": [
    "secrets_dict={}\n",
    "for line in string.split('\\n'):\n",
    "    if len(line) > 0:\n",
    "        secrets_dict[line.split(': ')[0]]=line.split(': ')[1]"
   ]
  },
  {
   "cell_type": "code",
   "execution_count": 108,
   "metadata": {
    "id": "5iV66R_RnhXR"
   },
   "outputs": [
    {
     "data": {
      "text/plain": [
       "{'cid': '5176c71e6a0243e6a3448aad68276887',\n",
       " 'csecret': '97a7946752544eb58aed2abde702c172'}"
      ]
     },
     "execution_count": 108,
     "metadata": {},
     "output_type": "execute_result"
    }
   ],
   "source": [
    "secrets_dict"
   ]
  },
  {
   "cell_type": "code",
   "execution_count": null,
   "metadata": {},
   "outputs": [],
   "source": []
  },
  {
   "cell_type": "markdown",
   "metadata": {
    "id": "oAQak0FunTy8"
   },
   "source": [
    "#### authentication with secrets"
   ]
  },
  {
   "cell_type": "code",
   "execution_count": 109,
   "metadata": {
    "id": "HkTY3iTCnYdC"
   },
   "outputs": [],
   "source": [
    "import spotipy\n",
    "from spotipy.oauth2 import SpotifyClientCredentials\n",
    "\n",
    "#Initialize SpotiPy with user credentials\n",
    "sp = spotipy.Spotify(auth_manager=SpotifyClientCredentials(client_id=secrets_dict['cid'],\n",
    "                                                           client_secret=secrets_dict['csecret']))"
   ]
  },
  {
   "cell_type": "markdown",
   "metadata": {
    "id": "yo1WSKzltvso"
   },
   "source": [
    "# Handling large playlists"
   ]
  },
  {
   "cell_type": "code",
   "execution_count": 110,
   "metadata": {
    "id": "mbK1y25Ds0U5"
   },
   "outputs": [],
   "source": [
    "playlist = sp.user_playlist_tracks(\"spotify\", \"5S8SJdl1BDc0ugpkEvFsIL\")"
   ]
  },
  {
   "cell_type": "code",
   "execution_count": 111,
   "metadata": {
    "id": "mGHkfglOs_lj"
   },
   "outputs": [
    {
     "data": {
      "text/plain": [
       "10000"
      ]
     },
     "execution_count": 111,
     "metadata": {},
     "output_type": "execute_result"
    }
   ],
   "source": [
    "playlist[\"total\"] "
   ]
  },
  {
   "cell_type": "code",
   "execution_count": 112,
   "metadata": {
    "id": "NpyPMu3ctX-t"
   },
   "outputs": [
    {
     "data": {
      "text/plain": [
       "100"
      ]
     },
     "execution_count": 112,
     "metadata": {},
     "output_type": "execute_result"
    }
   ],
   "source": [
    "len(playlist[\"items\"])"
   ]
  },
  {
   "cell_type": "markdown",
   "metadata": {
    "id": "gZhf22PreJe4"
   },
   "source": [
    "Function to extract all songs from a playlist"
   ]
  },
  {
   "cell_type": "code",
   "execution_count": 113,
   "metadata": {
    "id": "T60HHKUvs-fx"
   },
   "outputs": [
    {
     "data": {
      "text/plain": [
       "'https://api.spotify.com/v1/playlists/5S8SJdl1BDc0ugpkEvFsIL/tracks?offset=100&limit=100&additional_types=track'"
      ]
     },
     "execution_count": 113,
     "metadata": {},
     "output_type": "execute_result"
    }
   ],
   "source": [
    "playlist['next']"
   ]
  },
  {
   "cell_type": "code",
   "execution_count": 23,
   "metadata": {
    "id": "3kRTZHvptl7A"
   },
   "outputs": [],
   "source": [
    "#sp.next(playlist)"
   ]
  },
  {
   "cell_type": "code",
   "execution_count": 114,
   "metadata": {
    "id": "fmY2SJRVeJe4"
   },
   "outputs": [],
   "source": [
    "from random import randint\n",
    "from time import sleep\n",
    "\n",
    "def get_playlist_tracks(playlist_id):\n",
    "    results = sp.user_playlist_tracks(\"spotify\",playlist_id)\n",
    "    tracks = results['items']\n",
    "    while results['next']!=None:\n",
    "        results = sp.next(results)\n",
    "        tracks = tracks + results['items']\n",
    "        sleep(randint(1,2)/10)\n",
    "    return tracks"
   ]
  },
  {
   "cell_type": "code",
   "execution_count": 115,
   "metadata": {
    "id": "Egt1qLpWeJe4"
   },
   "outputs": [
    {
     "data": {
      "text/plain": [
       "10000"
      ]
     },
     "execution_count": 115,
     "metadata": {},
     "output_type": "execute_result"
    }
   ],
   "source": [
    "all_tracks = get_playlist_tracks(\"5S8SJdl1BDc0ugpkEvFsIL\")\n",
    "len(all_tracks)"
   ]
  },
  {
   "cell_type": "code",
   "execution_count": 59,
   "metadata": {},
   "outputs": [],
   "source": [
    "#all_tracks"
   ]
  },
  {
   "cell_type": "markdown",
   "metadata": {},
   "source": [
    "### Get artist and title and uri"
   ]
  },
  {
   "cell_type": "code",
   "execution_count": 116,
   "metadata": {},
   "outputs": [],
   "source": [
    "def get_playlist_tracks(username, playlist_id):\n",
    "    results = sp.user_playlist_tracks(username,playlist_id)\n",
    "    tracks = results['items']\n",
    "    while results['next']:\n",
    "        results = sp.next(results)\n",
    "        tracks.extend(results['items'])\n",
    "    return tracks"
   ]
  },
  {
   "cell_type": "code",
   "execution_count": 117,
   "metadata": {},
   "outputs": [],
   "source": [
    "tracks = get_playlist_tracks(\"spotify\", \"5S8SJdl1BDc0ugpkEvFsIL\")"
   ]
  },
  {
   "cell_type": "code",
   "execution_count": 118,
   "metadata": {},
   "outputs": [
    {
     "data": {
      "text/plain": [
       "'spotify:track:7zgqtptZvhf8GEmdsM2vp2'"
      ]
     },
     "execution_count": 118,
     "metadata": {},
     "output_type": "execute_result"
    }
   ],
   "source": [
    "tracks[0]['track']['uri']"
   ]
  },
  {
   "cell_type": "markdown",
   "metadata": {
    "id": "kPSm9s45eJe-"
   },
   "source": [
    "### Audio features"
   ]
  },
  {
   "cell_type": "code",
   "execution_count": 127,
   "metadata": {
    "id": "OPUhz5RZeJe-"
   },
   "outputs": [],
   "source": [
    "def features(tracks):\n",
    "    \n",
    "    song_features = {}\n",
    "    \n",
    "    for i in range(10):\n",
    "        song_features[tracks[i]['track']['id']] = sp.audio_features(tracks[i][\"track\"][\"uri\"])\n",
    "    \n",
    "    return song_features"
   ]
  },
  {
   "cell_type": "code",
   "execution_count": 120,
   "metadata": {},
   "outputs": [
    {
     "data": {
      "text/plain": [
       "[{'danceability': 0.615,\n",
       "  'energy': 0.779,\n",
       "  'key': 2,\n",
       "  'loudness': -6.454,\n",
       "  'mode': 1,\n",
       "  'speechiness': 0.135,\n",
       "  'acousticness': 0.0665,\n",
       "  'instrumentalness': 0,\n",
       "  'liveness': 0.155,\n",
       "  'valence': 0.453,\n",
       "  'tempo': 160.0,\n",
       "  'type': 'audio_features',\n",
       "  'id': '7zgqtptZvhf8GEmdsM2vp2',\n",
       "  'uri': 'spotify:track:7zgqtptZvhf8GEmdsM2vp2',\n",
       "  'track_href': 'https://api.spotify.com/v1/tracks/7zgqtptZvhf8GEmdsM2vp2',\n",
       "  'analysis_url': 'https://api.spotify.com/v1/audio-analysis/7zgqtptZvhf8GEmdsM2vp2',\n",
       "  'duration_ms': 208198,\n",
       "  'time_signature': 4}]"
      ]
     },
     "execution_count": 120,
     "metadata": {},
     "output_type": "execute_result"
    }
   ],
   "source": [
    "sp.audio_features(tracks[0][\"track\"][\"uri\"])"
   ]
  },
  {
   "cell_type": "code",
   "execution_count": 128,
   "metadata": {},
   "outputs": [
    {
     "data": {
      "text/plain": [
       "{'7zgqtptZvhf8GEmdsM2vp2': [{'danceability': 0.615,\n",
       "   'energy': 0.779,\n",
       "   'key': 2,\n",
       "   'loudness': -6.454,\n",
       "   'mode': 1,\n",
       "   'speechiness': 0.135,\n",
       "   'acousticness': 0.0665,\n",
       "   'instrumentalness': 0,\n",
       "   'liveness': 0.155,\n",
       "   'valence': 0.453,\n",
       "   'tempo': 160.0,\n",
       "   'type': 'audio_features',\n",
       "   'id': '7zgqtptZvhf8GEmdsM2vp2',\n",
       "   'uri': 'spotify:track:7zgqtptZvhf8GEmdsM2vp2',\n",
       "   'track_href': 'https://api.spotify.com/v1/tracks/7zgqtptZvhf8GEmdsM2vp2',\n",
       "   'analysis_url': 'https://api.spotify.com/v1/audio-analysis/7zgqtptZvhf8GEmdsM2vp2',\n",
       "   'duration_ms': 208198,\n",
       "   'time_signature': 4}],\n",
       " '4Vxu50qVrQcycjRyJQaZLC': [{'danceability': 0.687,\n",
       "   'energy': 0.845,\n",
       "   'key': 7,\n",
       "   'loudness': -4.37,\n",
       "   'mode': 1,\n",
       "   'speechiness': 0.0576,\n",
       "   'acousticness': 0.1,\n",
       "   'instrumentalness': 0,\n",
       "   'liveness': 0.0452,\n",
       "   'valence': 0.809,\n",
       "   'tempo': 87.972,\n",
       "   'type': 'audio_features',\n",
       "   'id': '4Vxu50qVrQcycjRyJQaZLC',\n",
       "   'uri': 'spotify:track:4Vxu50qVrQcycjRyJQaZLC',\n",
       "   'track_href': 'https://api.spotify.com/v1/tracks/4Vxu50qVrQcycjRyJQaZLC',\n",
       "   'analysis_url': 'https://api.spotify.com/v1/audio-analysis/4Vxu50qVrQcycjRyJQaZLC',\n",
       "   'duration_ms': 190227,\n",
       "   'time_signature': 4}],\n",
       " '6b8Be6ljOzmkOmFslEb23P': [{'danceability': 0.818,\n",
       "   'energy': 0.803,\n",
       "   'key': 1,\n",
       "   'loudness': -4.282,\n",
       "   'mode': 1,\n",
       "   'speechiness': 0.0797,\n",
       "   'acousticness': 0.034,\n",
       "   'instrumentalness': 0,\n",
       "   'liveness': 0.153,\n",
       "   'valence': 0.632,\n",
       "   'tempo': 106.97,\n",
       "   'type': 'audio_features',\n",
       "   'id': '6b8Be6ljOzmkOmFslEb23P',\n",
       "   'uri': 'spotify:track:6b8Be6ljOzmkOmFslEb23P',\n",
       "   'track_href': 'https://api.spotify.com/v1/tracks/6b8Be6ljOzmkOmFslEb23P',\n",
       "   'analysis_url': 'https://api.spotify.com/v1/audio-analysis/6b8Be6ljOzmkOmFslEb23P',\n",
       "   'duration_ms': 225983,\n",
       "   'time_signature': 4}],\n",
       " '0afhq8XCExXpqazXczTSve': [{'danceability': 0.624,\n",
       "   'energy': 0.876,\n",
       "   'key': 9,\n",
       "   'loudness': -3.374,\n",
       "   'mode': 1,\n",
       "   'speechiness': 0.1,\n",
       "   'acousticness': 0.0735,\n",
       "   'instrumentalness': 0,\n",
       "   'liveness': 0.327,\n",
       "   'valence': 0.781,\n",
       "   'tempo': 99.943,\n",
       "   'type': 'audio_features',\n",
       "   'id': '0afhq8XCExXpqazXczTSve',\n",
       "   'uri': 'spotify:track:0afhq8XCExXpqazXczTSve',\n",
       "   'track_href': 'https://api.spotify.com/v1/tracks/0afhq8XCExXpqazXczTSve',\n",
       "   'analysis_url': 'https://api.spotify.com/v1/audio-analysis/0afhq8XCExXpqazXczTSve',\n",
       "   'duration_ms': 170827,\n",
       "   'time_signature': 4}],\n",
       " '1HNkqx9Ahdgi1Ixy2xkKkL': [{'danceability': 0.614,\n",
       "   'energy': 0.379,\n",
       "   'key': 4,\n",
       "   'loudness': -10.48,\n",
       "   'mode': 1,\n",
       "   'speechiness': 0.0476,\n",
       "   'acousticness': 0.607,\n",
       "   'instrumentalness': 0.000464,\n",
       "   'liveness': 0.0986,\n",
       "   'valence': 0.201,\n",
       "   'tempo': 107.989,\n",
       "   'type': 'audio_features',\n",
       "   'id': '1HNkqx9Ahdgi1Ixy2xkKkL',\n",
       "   'uri': 'spotify:track:1HNkqx9Ahdgi1Ixy2xkKkL',\n",
       "   'track_href': 'https://api.spotify.com/v1/tracks/1HNkqx9Ahdgi1Ixy2xkKkL',\n",
       "   'analysis_url': 'https://api.spotify.com/v1/audio-analysis/1HNkqx9Ahdgi1Ixy2xkKkL',\n",
       "   'duration_ms': 258987,\n",
       "   'time_signature': 4}],\n",
       " '0ofbQMrRDsUaVKq2mGLEAb': [{'danceability': 0.768,\n",
       "   'energy': 0.517,\n",
       "   'key': 7,\n",
       "   'loudness': -4.323,\n",
       "   'mode': 0,\n",
       "   'speechiness': 0.0312,\n",
       "   'acousticness': 0.186,\n",
       "   'instrumentalness': 3.8e-05,\n",
       "   'liveness': 0.104,\n",
       "   'valence': 0.418,\n",
       "   'tempo': 104.992,\n",
       "   'type': 'audio_features',\n",
       "   'id': '0ofbQMrRDsUaVKq2mGLEAb',\n",
       "   'uri': 'spotify:track:0ofbQMrRDsUaVKq2mGLEAb',\n",
       "   'track_href': 'https://api.spotify.com/v1/tracks/0ofbQMrRDsUaVKq2mGLEAb',\n",
       "   'analysis_url': 'https://api.spotify.com/v1/audio-analysis/0ofbQMrRDsUaVKq2mGLEAb',\n",
       "   'duration_ms': 216897,\n",
       "   'time_signature': 4}],\n",
       " '0nJW01T7XtvILxQgC5J7Wh': [{'danceability': 0.612,\n",
       "   'energy': 0.28,\n",
       "   'key': 0,\n",
       "   'loudness': -8.648,\n",
       "   'mode': 1,\n",
       "   'speechiness': 0.0434,\n",
       "   'acousticness': 0.932,\n",
       "   'instrumentalness': 0,\n",
       "   'liveness': 0.088,\n",
       "   'valence': 0.387,\n",
       "   'tempo': 72.795,\n",
       "   'type': 'audio_features',\n",
       "   'id': '0nJW01T7XtvILxQgC5J7Wh',\n",
       "   'uri': 'spotify:track:0nJW01T7XtvILxQgC5J7Wh',\n",
       "   'track_href': 'https://api.spotify.com/v1/tracks/0nJW01T7XtvILxQgC5J7Wh',\n",
       "   'analysis_url': 'https://api.spotify.com/v1/audio-analysis/0nJW01T7XtvILxQgC5J7Wh',\n",
       "   'duration_ms': 213827,\n",
       "   'time_signature': 4}],\n",
       " '6C2PfemHQul77DVpnvuAIs': [{'danceability': 0.415,\n",
       "   'energy': 0.538,\n",
       "   'key': 9,\n",
       "   'loudness': -12.71,\n",
       "   'mode': 0,\n",
       "   'speechiness': 0.0368,\n",
       "   'acousticness': 0.4,\n",
       "   'instrumentalness': 0.767,\n",
       "   'liveness': 0.0674,\n",
       "   'valence': 0.449,\n",
       "   'tempo': 95.121,\n",
       "   'type': 'audio_features',\n",
       "   'id': '6C2PfemHQul77DVpnvuAIs',\n",
       "   'uri': 'spotify:track:6C2PfemHQul77DVpnvuAIs',\n",
       "   'track_href': 'https://api.spotify.com/v1/tracks/6C2PfemHQul77DVpnvuAIs',\n",
       "   'analysis_url': 'https://api.spotify.com/v1/audio-analysis/6C2PfemHQul77DVpnvuAIs',\n",
       "   'duration_ms': 170240,\n",
       "   'time_signature': 4}],\n",
       " '3PGdPUMdUg7a3Tgr5gkfKK': [{'danceability': 0.776,\n",
       "   'energy': 0.62,\n",
       "   'key': 7,\n",
       "   'loudness': -6.198,\n",
       "   'mode': 1,\n",
       "   'speechiness': 0.067,\n",
       "   'acousticness': 0.341,\n",
       "   'instrumentalness': 0,\n",
       "   'liveness': 0.0978,\n",
       "   'valence': 0.427,\n",
       "   'tempo': 100.025,\n",
       "   'type': 'audio_features',\n",
       "   'id': '3PGdPUMdUg7a3Tgr5gkfKK',\n",
       "   'uri': 'spotify:track:3PGdPUMdUg7a3Tgr5gkfKK',\n",
       "   'track_href': 'https://api.spotify.com/v1/tracks/3PGdPUMdUg7a3Tgr5gkfKK',\n",
       "   'analysis_url': 'https://api.spotify.com/v1/audio-analysis/3PGdPUMdUg7a3Tgr5gkfKK',\n",
       "   'duration_ms': 214265,\n",
       "   'time_signature': 4}],\n",
       " '34gCuhDGsG4bRPIf9bb02f': [{'danceability': 0.781,\n",
       "   'energy': 0.445,\n",
       "   'key': 2,\n",
       "   'loudness': -6.061,\n",
       "   'mode': 1,\n",
       "   'speechiness': 0.0295,\n",
       "   'acousticness': 0.474,\n",
       "   'instrumentalness': 0,\n",
       "   'liveness': 0.184,\n",
       "   'valence': 0.591,\n",
       "   'tempo': 78.998,\n",
       "   'type': 'audio_features',\n",
       "   'id': '34gCuhDGsG4bRPIf9bb02f',\n",
       "   'uri': 'spotify:track:34gCuhDGsG4bRPIf9bb02f',\n",
       "   'track_href': 'https://api.spotify.com/v1/tracks/34gCuhDGsG4bRPIf9bb02f',\n",
       "   'analysis_url': 'https://api.spotify.com/v1/audio-analysis/34gCuhDGsG4bRPIf9bb02f',\n",
       "   'duration_ms': 281560,\n",
       "   'time_signature': 4}]}"
      ]
     },
     "execution_count": 128,
     "metadata": {},
     "output_type": "execute_result"
    }
   ],
   "source": [
    "my_uri = features(tracks)"
   ]
  },
  {
   "cell_type": "code",
   "execution_count": 121,
   "metadata": {},
   "outputs": [],
   "source": [
    "track = []\n",
    "\n",
    "for a in range(len(all_tracks)-1):\n",
    "    adding = all_tracks[a]['track']['name']\n",
    "    track.append(adding)"
   ]
  },
  {
   "cell_type": "code",
   "execution_count": 122,
   "metadata": {},
   "outputs": [],
   "source": [
    "artists = []\n",
    "feature = []\n",
    "feature2 = []\n",
    "\n",
    "for a in range(len(all_tracks)-1):\n",
    "    insert = all_tracks[a]['track']['artists'][0]['name']\n",
    "    artists.append(insert)\n",
    "    if len(all_tracks[a]['track']['artists']) > 1:\n",
    "        feature.append(all_tracks[a]['track']['artists'][1]['name'])\n",
    "    if len(all_tracks[a]['track']['artists']) > 2:\n",
    "        feature2.append(all_tracks[a]['track']['artists'][2]['name'])"
   ]
  },
  {
   "cell_type": "code",
   "execution_count": null,
   "metadata": {
    "id": "xYJL1ogSwguQ"
   },
   "outputs": [],
   "source": [
    "dict(my_uri)\n",
    "pd.DataFrame"
   ]
  },
  {
   "cell_type": "code",
   "execution_count": null,
   "metadata": {
    "id": "OJiobU-Xak4a"
   },
   "outputs": [],
   "source": []
  }
 ],
 "metadata": {
  "colab": {
   "collapsed_sections": [],
   "provenance": []
  },
  "kernelspec": {
   "display_name": "Python 3 (ipykernel)",
   "language": "python",
   "name": "python3"
  },
  "language_info": {
   "codemirror_mode": {
    "name": "ipython",
    "version": 3
   },
   "file_extension": ".py",
   "mimetype": "text/x-python",
   "name": "python",
   "nbconvert_exporter": "python",
   "pygments_lexer": "ipython3",
   "version": "3.9.12"
  }
 },
 "nbformat": 4,
 "nbformat_minor": 1
}
