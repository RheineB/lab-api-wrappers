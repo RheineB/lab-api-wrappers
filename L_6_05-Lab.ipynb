{
 "cells": [
  {
   "cell_type": "markdown",
   "metadata": {
    "id": "kOBk3PQHeJef"
   },
   "source": [
    "# Lesson 6.5 - API Wrappers LAB"
   ]
  },
  {
   "cell_type": "markdown",
   "metadata": {
    "id": "OhLA0o_5eJep"
   },
   "source": [
    "#### Authentification"
   ]
  },
  {
   "cell_type": "code",
   "execution_count": 27,
   "metadata": {
    "id": "JuPP1QvSaGdp"
   },
   "outputs": [],
   "source": [
    "import spotipy\n",
    "from spotipy.oauth2 import SpotifyClientCredentials\n",
    "import pandas as pd"
   ]
  },
  {
   "cell_type": "markdown",
   "metadata": {
    "id": "4iW0BQKonLZq"
   },
   "source": [
    "##### storing secrets"
   ]
  },
  {
   "cell_type": "code",
   "execution_count": 2,
   "metadata": {
    "id": "P6Z1QB7eeJeq"
   },
   "outputs": [],
   "source": [
    "secrets_file = open(\"secrets.txt\",\"r\")\n",
    "#r = reading"
   ]
  },
  {
   "cell_type": "code",
   "execution_count": 3,
   "metadata": {
    "id": "O_zvc84bnbh2"
   },
   "outputs": [],
   "source": [
    "string = secrets_file.read()"
   ]
  },
  {
   "cell_type": "code",
   "execution_count": null,
   "metadata": {
    "id": "qE_-56J0ak4B"
   },
   "outputs": [],
   "source": [
    "string"
   ]
  },
  {
   "cell_type": "code",
   "execution_count": null,
   "metadata": {
    "id": "kXwHdEdLndJZ"
   },
   "outputs": [],
   "source": [
    "string.split('\\n')"
   ]
  },
  {
   "cell_type": "code",
   "execution_count": 6,
   "metadata": {
    "id": "gZmYnRSNngr7"
   },
   "outputs": [],
   "source": [
    "secrets_dict={}\n",
    "for line in string.split('\\n'):\n",
    "    if len(line) > 0:\n",
    "        secrets_dict[line.split(': ')[0]]=line.split(': ')[1]"
   ]
  },
  {
   "cell_type": "code",
   "execution_count": null,
   "metadata": {
    "id": "5iV66R_RnhXR"
   },
   "outputs": [],
   "source": [
    "secrets_dict"
   ]
  },
  {
   "cell_type": "code",
   "execution_count": null,
   "metadata": {},
   "outputs": [],
   "source": []
  },
  {
   "cell_type": "markdown",
   "metadata": {
    "id": "oAQak0FunTy8"
   },
   "source": [
    "#### authentication with secrets"
   ]
  },
  {
   "cell_type": "code",
   "execution_count": 8,
   "metadata": {
    "id": "HkTY3iTCnYdC"
   },
   "outputs": [],
   "source": [
    "import spotipy\n",
    "from spotipy.oauth2 import SpotifyClientCredentials\n",
    "\n",
    "#Initialize SpotiPy with user credentials\n",
    "sp = spotipy.Spotify(auth_manager=SpotifyClientCredentials(client_id=secrets_dict['cid'],\n",
    "                                                           client_secret=secrets_dict['csecret']))"
   ]
  },
  {
   "cell_type": "markdown",
   "metadata": {
    "id": "yo1WSKzltvso"
   },
   "source": [
    "# Handling large playlists"
   ]
  },
  {
   "cell_type": "code",
   "execution_count": 9,
   "metadata": {
    "id": "mbK1y25Ds0U5"
   },
   "outputs": [],
   "source": [
    "playlist = sp.user_playlist_tracks(\"spotify\", \"5S8SJdl1BDc0ugpkEvFsIL\")"
   ]
  },
  {
   "cell_type": "code",
   "execution_count": 10,
   "metadata": {
    "id": "mGHkfglOs_lj"
   },
   "outputs": [
    {
     "data": {
      "text/plain": [
       "10000"
      ]
     },
     "execution_count": 10,
     "metadata": {},
     "output_type": "execute_result"
    }
   ],
   "source": [
    "playlist[\"total\"] "
   ]
  },
  {
   "cell_type": "code",
   "execution_count": 11,
   "metadata": {
    "id": "NpyPMu3ctX-t"
   },
   "outputs": [
    {
     "data": {
      "text/plain": [
       "100"
      ]
     },
     "execution_count": 11,
     "metadata": {},
     "output_type": "execute_result"
    }
   ],
   "source": [
    "len(playlist[\"items\"])"
   ]
  },
  {
   "cell_type": "markdown",
   "metadata": {
    "id": "gZhf22PreJe4"
   },
   "source": [
    "Function to extract all songs from a playlist"
   ]
  },
  {
   "cell_type": "code",
   "execution_count": 12,
   "metadata": {
    "id": "T60HHKUvs-fx"
   },
   "outputs": [
    {
     "data": {
      "text/plain": [
       "'https://api.spotify.com/v1/playlists/5S8SJdl1BDc0ugpkEvFsIL/tracks?offset=100&limit=100&additional_types=track'"
      ]
     },
     "execution_count": 12,
     "metadata": {},
     "output_type": "execute_result"
    }
   ],
   "source": [
    "playlist['next']"
   ]
  },
  {
   "cell_type": "code",
   "execution_count": 13,
   "metadata": {
    "id": "3kRTZHvptl7A"
   },
   "outputs": [],
   "source": [
    "#sp.next(playlist)"
   ]
  },
  {
   "cell_type": "code",
   "execution_count": 14,
   "metadata": {
    "id": "fmY2SJRVeJe4"
   },
   "outputs": [],
   "source": [
    "from random import randint\n",
    "from time import sleep\n",
    "\n",
    "def get_playlist_tracks(playlist_id):\n",
    "    results = sp.user_playlist_tracks(\"spotify\",playlist_id)\n",
    "    tracks = results['items']\n",
    "    while results['next']!=None:\n",
    "        results = sp.next(results)\n",
    "        tracks = tracks + results['items']\n",
    "        sleep(randint(1,2)/10)\n",
    "    return tracks"
   ]
  },
  {
   "cell_type": "code",
   "execution_count": 15,
   "metadata": {
    "id": "Egt1qLpWeJe4"
   },
   "outputs": [
    {
     "data": {
      "text/plain": [
       "10000"
      ]
     },
     "execution_count": 15,
     "metadata": {},
     "output_type": "execute_result"
    }
   ],
   "source": [
    "all_tracks = get_playlist_tracks(\"5S8SJdl1BDc0ugpkEvFsIL\")\n",
    "len(all_tracks)"
   ]
  },
  {
   "cell_type": "code",
   "execution_count": 16,
   "metadata": {},
   "outputs": [],
   "source": [
    "#all_tracks"
   ]
  },
  {
   "cell_type": "markdown",
   "metadata": {},
   "source": [
    "### Get artist and title and uri"
   ]
  },
  {
   "cell_type": "code",
   "execution_count": 17,
   "metadata": {},
   "outputs": [],
   "source": [
    "def get_playlist_tracks(username, playlist_id):\n",
    "    results = sp.user_playlist_tracks(username,playlist_id)\n",
    "    tracks = results['items']\n",
    "    while results['next']:\n",
    "        results = sp.next(results)\n",
    "        tracks.extend(results['items'])\n",
    "    return tracks"
   ]
  },
  {
   "cell_type": "code",
   "execution_count": 18,
   "metadata": {},
   "outputs": [],
   "source": [
    "tracks = get_playlist_tracks(\"spotify\", \"5S8SJdl1BDc0ugpkEvFsIL\")"
   ]
  },
  {
   "cell_type": "code",
   "execution_count": 19,
   "metadata": {},
   "outputs": [
    {
     "data": {
      "text/plain": [
       "'spotify:track:7zgqtptZvhf8GEmdsM2vp2'"
      ]
     },
     "execution_count": 19,
     "metadata": {},
     "output_type": "execute_result"
    }
   ],
   "source": [
    "tracks[0]['track']['uri']"
   ]
  },
  {
   "cell_type": "markdown",
   "metadata": {
    "id": "kPSm9s45eJe-"
   },
   "source": [
    "### Audio features"
   ]
  },
  {
   "cell_type": "code",
   "execution_count": 20,
   "metadata": {
    "id": "OPUhz5RZeJe-"
   },
   "outputs": [],
   "source": [
    "def features(tracks):\n",
    "    \n",
    "    song_features = {}\n",
    "    \n",
    "    for i in range(10):\n",
    "        song_features[tracks[i]['track']['id']] = sp.audio_features(tracks[i][\"track\"][\"uri\"])\n",
    "    \n",
    "    return song_features"
   ]
  },
  {
   "cell_type": "code",
   "execution_count": 21,
   "metadata": {},
   "outputs": [
    {
     "data": {
      "text/plain": [
       "[{'danceability': 0.615,\n",
       "  'energy': 0.779,\n",
       "  'key': 2,\n",
       "  'loudness': -6.454,\n",
       "  'mode': 1,\n",
       "  'speechiness': 0.135,\n",
       "  'acousticness': 0.0665,\n",
       "  'instrumentalness': 0,\n",
       "  'liveness': 0.155,\n",
       "  'valence': 0.453,\n",
       "  'tempo': 160.0,\n",
       "  'type': 'audio_features',\n",
       "  'id': '7zgqtptZvhf8GEmdsM2vp2',\n",
       "  'uri': 'spotify:track:7zgqtptZvhf8GEmdsM2vp2',\n",
       "  'track_href': 'https://api.spotify.com/v1/tracks/7zgqtptZvhf8GEmdsM2vp2',\n",
       "  'analysis_url': 'https://api.spotify.com/v1/audio-analysis/7zgqtptZvhf8GEmdsM2vp2',\n",
       "  'duration_ms': 208198,\n",
       "  'time_signature': 4}]"
      ]
     },
     "execution_count": 21,
     "metadata": {},
     "output_type": "execute_result"
    }
   ],
   "source": [
    "sp.audio_features(tracks[0][\"track\"][\"uri\"])"
   ]
  },
  {
   "cell_type": "code",
   "execution_count": 22,
   "metadata": {},
   "outputs": [],
   "source": [
    "my_uri = features(tracks)"
   ]
  },
  {
   "cell_type": "code",
   "execution_count": 23,
   "metadata": {},
   "outputs": [],
   "source": [
    "track = []\n",
    "\n",
    "for a in range(len(all_tracks)-1):\n",
    "    adding = all_tracks[a]['track']['name']\n",
    "    track.append(adding)"
   ]
  },
  {
   "cell_type": "code",
   "execution_count": 24,
   "metadata": {},
   "outputs": [],
   "source": [
    "artists = []\n",
    "feature = []\n",
    "feature2 = []\n",
    "\n",
    "for a in range(len(all_tracks)-1):\n",
    "    insert = all_tracks[a]['track']['artists'][0]['name']\n",
    "    artists.append(insert)\n",
    "    if len(all_tracks[a]['track']['artists']) > 1:\n",
    "        feature.append(all_tracks[a]['track']['artists'][1]['name'])\n",
    "    if len(all_tracks[a]['track']['artists']) > 2:\n",
    "        feature2.append(all_tracks[a]['track']['artists'][2]['name'])"
   ]
  },
  {
   "cell_type": "code",
   "execution_count": 36,
   "metadata": {
    "id": "xYJL1ogSwguQ"
   },
   "outputs": [
    {
     "data": {
      "text/html": [
       "<div>\n",
       "<style scoped>\n",
       "    .dataframe tbody tr th:only-of-type {\n",
       "        vertical-align: middle;\n",
       "    }\n",
       "\n",
       "    .dataframe tbody tr th {\n",
       "        vertical-align: top;\n",
       "    }\n",
       "\n",
       "    .dataframe thead th {\n",
       "        text-align: right;\n",
       "    }\n",
       "</style>\n",
       "<table border=\"1\" class=\"dataframe\">\n",
       "  <thead>\n",
       "    <tr style=\"text-align: right;\">\n",
       "      <th></th>\n",
       "      <th>0</th>\n",
       "    </tr>\n",
       "  </thead>\n",
       "  <tbody>\n",
       "    <tr>\n",
       "      <th>7zgqtptZvhf8GEmdsM2vp2</th>\n",
       "      <td>{'danceability': 0.615, 'energy': 0.779, 'key'...</td>\n",
       "    </tr>\n",
       "    <tr>\n",
       "      <th>4Vxu50qVrQcycjRyJQaZLC</th>\n",
       "      <td>{'danceability': 0.687, 'energy': 0.845, 'key'...</td>\n",
       "    </tr>\n",
       "    <tr>\n",
       "      <th>6b8Be6ljOzmkOmFslEb23P</th>\n",
       "      <td>{'danceability': 0.818, 'energy': 0.803, 'key'...</td>\n",
       "    </tr>\n",
       "    <tr>\n",
       "      <th>0afhq8XCExXpqazXczTSve</th>\n",
       "      <td>{'danceability': 0.624, 'energy': 0.876, 'key'...</td>\n",
       "    </tr>\n",
       "    <tr>\n",
       "      <th>1HNkqx9Ahdgi1Ixy2xkKkL</th>\n",
       "      <td>{'danceability': 0.614, 'energy': 0.379, 'key'...</td>\n",
       "    </tr>\n",
       "    <tr>\n",
       "      <th>0ofbQMrRDsUaVKq2mGLEAb</th>\n",
       "      <td>{'danceability': 0.768, 'energy': 0.517, 'key'...</td>\n",
       "    </tr>\n",
       "    <tr>\n",
       "      <th>0nJW01T7XtvILxQgC5J7Wh</th>\n",
       "      <td>{'danceability': 0.612, 'energy': 0.28, 'key':...</td>\n",
       "    </tr>\n",
       "    <tr>\n",
       "      <th>6C2PfemHQul77DVpnvuAIs</th>\n",
       "      <td>{'danceability': 0.415, 'energy': 0.538, 'key'...</td>\n",
       "    </tr>\n",
       "    <tr>\n",
       "      <th>3PGdPUMdUg7a3Tgr5gkfKK</th>\n",
       "      <td>{'danceability': 0.776, 'energy': 0.62, 'key':...</td>\n",
       "    </tr>\n",
       "    <tr>\n",
       "      <th>34gCuhDGsG4bRPIf9bb02f</th>\n",
       "      <td>{'danceability': 0.781, 'energy': 0.445, 'key'...</td>\n",
       "    </tr>\n",
       "  </tbody>\n",
       "</table>\n",
       "</div>"
      ],
      "text/plain": [
       "                                                                        0\n",
       "7zgqtptZvhf8GEmdsM2vp2  {'danceability': 0.615, 'energy': 0.779, 'key'...\n",
       "4Vxu50qVrQcycjRyJQaZLC  {'danceability': 0.687, 'energy': 0.845, 'key'...\n",
       "6b8Be6ljOzmkOmFslEb23P  {'danceability': 0.818, 'energy': 0.803, 'key'...\n",
       "0afhq8XCExXpqazXczTSve  {'danceability': 0.624, 'energy': 0.876, 'key'...\n",
       "1HNkqx9Ahdgi1Ixy2xkKkL  {'danceability': 0.614, 'energy': 0.379, 'key'...\n",
       "0ofbQMrRDsUaVKq2mGLEAb  {'danceability': 0.768, 'energy': 0.517, 'key'...\n",
       "0nJW01T7XtvILxQgC5J7Wh  {'danceability': 0.612, 'energy': 0.28, 'key':...\n",
       "6C2PfemHQul77DVpnvuAIs  {'danceability': 0.415, 'energy': 0.538, 'key'...\n",
       "3PGdPUMdUg7a3Tgr5gkfKK  {'danceability': 0.776, 'energy': 0.62, 'key':...\n",
       "34gCuhDGsG4bRPIf9bb02f  {'danceability': 0.781, 'energy': 0.445, 'key'..."
      ]
     },
     "execution_count": 36,
     "metadata": {},
     "output_type": "execute_result"
    }
   ],
   "source": [
    "dict(my_uri)\n",
    "pd.DataFrame(dict(my_uri))\n",
    "uri_df = pd.DataFrame(dict(my_uri)).transpose()\n",
    "\n"
   ]
  },
  {
   "cell_type": "code",
   "execution_count": 30,
   "metadata": {},
   "outputs": [],
   "source": []
  },
  {
   "cell_type": "code",
   "execution_count": null,
   "metadata": {
    "id": "OJiobU-Xak4a"
   },
   "outputs": [],
   "source": []
  },
  {
   "cell_type": "code",
   "execution_count": null,
   "metadata": {},
   "outputs": [],
   "source": []
  }
 ],
 "metadata": {
  "colab": {
   "collapsed_sections": [],
   "provenance": []
  },
  "kernelspec": {
   "display_name": "Python 3 (ipykernel)",
   "language": "python",
   "name": "python3"
  },
  "language_info": {
   "codemirror_mode": {
    "name": "ipython",
    "version": 3
   },
   "file_extension": ".py",
   "mimetype": "text/x-python",
   "name": "python",
   "nbconvert_exporter": "python",
   "pygments_lexer": "ipython3",
   "version": "3.9.12"
  }
 },
 "nbformat": 4,
 "nbformat_minor": 1
}
